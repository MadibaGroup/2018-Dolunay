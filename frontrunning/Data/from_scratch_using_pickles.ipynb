{
 "cells": [
  {
   "cell_type": "code",
   "execution_count": 1,
   "metadata": {},
   "outputs": [],
   "source": [
    "import pandas as pd\n",
    "from pprint import pprint\n",
    "from matplotlib import pyplot as plt\n",
    "import numpy as np"
   ]
  },
  {
   "cell_type": "code",
   "execution_count": 2,
   "metadata": {},
   "outputs": [],
   "source": [
    "df = pd.read_pickle('./Data/Data/blocks_mined_while_status_ico__block_data_pickle.p')"
   ]
  },
  {
   "cell_type": "code",
   "execution_count": 3,
   "metadata": {},
   "outputs": [],
   "source": [
    "trans = pd.read_pickle('./Data/Data/status_ico_transactions.p')"
   ]
  },
  {
   "cell_type": "code",
   "execution_count": 18,
   "metadata": {},
   "outputs": [
    {
     "name": "stdout",
     "output_type": "stream",
     "text": [
      "{'uncles': [{'blockreward': '3750000000000000000', 'unclePosition': '0', 'miner': '0x61c808d82a3ac53231750dadc13c777b59310bd9'}], 'timeStamp': '1497973929', 'blockReward': '6615234868921832132', 'uncleInclusionReward': '156250000000000000', 'blockMiner': '0xc0ea08a2d404d3172d2add29a45be56da40e2949', 'blockNumber': '3903901'}\n"
     ]
    }
   ],
   "source": [
    "pprint(df)"
   ]
  },
  {
   "cell_type": "code",
   "execution_count": 15,
   "metadata": {
    "scrolled": true
   },
   "outputs": [
    {
     "name": "stdout",
     "output_type": "stream",
     "text": [
      "{'blockCount': 1036, 'blocks': ['3903912', '3903913', '3903915', '3903916', '3903924', '3903929', '3903930', '3903944', '3903955', '3903966', '3903971', '3903982', '3903983', '3903984', '3903985', '3903990', '3903995', '3903997', '3904001', '3904004', '3904006', '3904008', '3904009', '3904011', '3904015', '3904024', '3904051', '3904055', '3904060', '3904061', '3904063', '3904066', '3904067', '3904069', '3904072', '3904073', '3904077', '3904079', '3904090', '3904093', '3904112', '3904115', '3904116', '3904117', '3904121', '3904122', '3904124', '3904126', '3904130', '3904138', '3904142', '3904143', '3904144', '3904147', '3904149', '3904150', '3904154', '3904157', '3904158', '3904159', '3904161', '3904162', '3904166', '3904172', '3904176', '3904178', '3904180', '3904183', '3904184', '3904186', '3904192', '3904213', '3904214', '3904218', '3904219', '3904220', '3904224', '3904232', '3904234', '3904237', '3904238', '3904242', '3904243', '3904244', '3904251', '3904260', '3904271', '3904274', '3904275', '3904277', '3904278', '3904286', '3904287', '3904291', '3904296', '3904297', '3904300', '3904306', '3904307', '3904308', '3904310', '3904311', '3904314', '3904315', '3904316', '3904318', '3904320', '3904324', '3904325', '3904328', '3904329', '3904333', '3904335', '3904342', '3904347', '3904355', '3904361', '3904362', '3904366', '3904376', '3904378', '3904383', '3904386', '3904403', '3904404', '3904410', '3904415', '3904420', '3904421', '3904422', '3904425', '3904426', '3904432', '3904434', '3904436', '3904445', '3904450', '3904453', '3904457', '3904460', '3904464', '3904477', '3904479', '3904482', '3904487', '3904489', '3904491', '3904494', '3904504', '3904508', '3904516', '3904517', '3904524', '3904525', '3904528', '3904533', '3904534', '3904536', '3904540', '3904545', '3904550', '3904554', '3904560', '3904576', '3904577', '3904581', '3904586', '3904589', '3904590', '3904606', '3904607', '3904610', '3904616', '3904617', '3904620', '3904635', '3904638', '3904641', '3904642', '3904648', '3904650', '3904651', '3904657', '3904667', '3904668', '3904674', '3904675', '3904682', '3904686', '3904690', '3904700', '3904707', '3904715', '3904716', '3904717', '3904721', '3904730', '3904731', '3904735', '3904740', '3904744', '3904745', '3904748', '3904749', '3904752', '3904760', '3904764', '3904768', '3904772', '3904785', '3904788', '3904795', '3904796', '3904808', '3904809', '3904814', '3904815', '3904817', '3904818', '3904819', '3904823', '3904824', '3904827', '3904832', '3904835', '3904839', '3904840', '3904844', '3904848', '3904851', '3904857', '3904864', '3904874', '3904879', '3904882', '3904884', '3904885', '3904890', '3904891', '3904895', '3904917', '3904918', '3904927', '3904929', '3904933', '3904935', '3904938', '3904945', '3904948', '3904950', '3904954', '3904960', '3904962', '3904965', '3904967', '3904973', '3904974', '3904979', '3904981', '3904991', '3904992', '3904993', '3904994', '3904998', '3905004', '3905009', '3905012', '3905013', '3905016', '3905019', '3905025', '3905033', '3905034', '3905038', '3905044', '3905047', '3905048', '3905054', '3905055', '3905059', '3905060', '3905061', '3905062', '3905063', '3905074', '3905076', '3905077', '3905080', '3905081', '3905084', '3905087', '3905089', '3905091', '3905092', '3905093', '3905101', '3905102', '3905103', '3905104', '3905114', '3905127', '3905133', '3905135', '3905139', '3905140', '3905144', '3905148', '3905149', '3905150', '3905151', '3905155', '3905160', '3905161', '3905162', '3905165', '3905171', '3905172', '3905179', '3905181', '3905182', '3905187', '3905188', '3905189', '3905191', '3905193', '3905199', '3905200', '3905201', '3905205', '3905209', '3905216', '3905218', '3905226', '3905227', '3905231', '3905235', '3905241', '3905246', '3905247', '3905249', '3905251', '3905254', '3905268', '3905269', '3905271', '3905276', '3905277', '3905280', '3905281', '3905289', '3905297', '3905298', '3905306', '3905307', '3905308', '3905318', '3905344', '3905348', '3905359', '3905368', '3905372', '3905378', '3905380', '3905382', '3905384', '3905388', '3905392', '3905393', '3905395', '3905405', '3905421', '3905427', '3905431', '3905432', '3905433', '3905434', '3905435', '3905437', '3905438', '3905440', '3905447', '3905448', '3905463', '3905464', '3905473', '3905474', '3905477', '3905480', '3905481', '3905484', '3905485', '3905486', '3905502', '3905505', '3905506', '3905507', '3905509', '3905517', '3905523', '3905524', '3905529', '3905534', '3905535', '3905539', '3905545', '3905549', '3905550', '3905567', '3905571', '3905572', '3905576', '3905577', '3905578', '3905583', '3905585', '3905593', '3905595', '3905599', '3905600', '3905605', '3905613', '3905617', '3905619', '3905627', '3905635', '3905639', '3905646', '3905650', '3905658', '3905665', '3905670', '3905672', '3905677', '3905682', '3905683', '3905688', '3905690', '3905698', '3905701', '3905704', '3905707', '3905708', '3905709', '3905715', '3905718', '3905725', '3905726', '3905728', '3905735', '3905738', '3905750', '3905751', '3905759', '3905761', '3905763', '3905765', '3905768', '3905770', '3905771', '3905781', '3905798', '3905799', '3905800', '3905804', '3905808', '3905809', '3905810', '3905812', '3905814', '3905817', '3905831', '3905835', '3905836', '3905838', '3905848', '3905852', '3905856', '3905858', '3905861', '3905864', '3905865', '3905869', '3905881', '3905882', '3905886', '3905889', '3905895', '3905898', '3905902', '3905905', '3905909', '3905911', '3905916', '3905924', '3905935', '3905936', '3905940', '3905942', '3905943', '3905944', '3905948', '3905949', '3905953', '3905955', '3905959', '3905972', '3905984', '3905991', '3905993', '3905996', '3906002', '3906005', '3906006', '3906009', '3906011', '3906019', '3906020', '3906024', '3906026', '3906033', '3906034', '3906039', '3906040', '3906041', '3906042', '3906044', '3906045', '3906050', '3906051', '3906055', '3906058', '3906059', '3906065', '3906071', '3906075', '3906077', '3906106', '3906110', '3906113', '3906116', '3906117', '3906120', '3906124', '3906126', '3906133', '3906139', '3906145', '3906148', '3906150', '3906153', '3906160', '3906168', '3906171', '3906172', '3906174', '3906184', '3906193', '3906194', '3906196', '3906198', '3906200', '3906201', '3906204', '3906208', '3906216', '3906220', '3906222', '3906223', '3906224', '3906234', '3906235', '3906241', '3906244', '3906247', '3906249', '3906253', '3906257', '3906270', '3906271', '3906272', '3906273', '3906283', '3906285', '3906286', '3906287', '3906290', '3906291', '3906298', '3906306', '3906310', '3906312', '3906313', '3906314', '3906315', '3906319', '3906325', '3906328', '3906329', '3906331', '3906339', '3906340', '3906344', '3906358', '3906363', '3906365', '3906369', '3906370', '3906371', '3906374', '3906376', '3906378', '3906379', '3906380', '3906389', '3906390', '3906394', '3906395', '3906399', '3906409', '3906411', '3906412', '3906413', '3906416', '3906418', '3906424', '3906428', '3906437', '3906443', '3906448', '3906451', '3906452', '3906454', '3906465', '3906467', '3906468', '3906484', '3906487', '3906490', '3906491', '3906499', '3906502', '3906504', '3906508', '3906522', '3906528', '3906533', '3906536', '3906540', '3906542', '3906543', '3906546', '3906547', '3906552', '3906553', '3906561', '3906562', '3906580', '3906589', '3906594', '3906599', '3906604', '3906608', '3906611', '3906617', '3906621', '3906622', '3906624', '3906629', '3906642', '3906650', '3906652', '3906658', '3906669', '3906673', '3906688', '3906691', '3906696', '3906697', '3906701', '3906702', '3906707', '3906708', '3906709', '3906713', '3906717', '3906722', '3906723', '3906730', '3906733', '3906735', '3906736', '3906737', '3906738', '3906741', '3906743', '3906744', '3906746', '3906749', '3906754', '3906756', '3906759', '3906761', '3906766', '3906769', '3906771', '3906773', '3906777', '3906782', '3906788', '3906793', '3906797', '3906799', '3906802', '3906812', '3906817', '3906820', '3906821', '3906823', '3906827', '3906834', '3906837', '3906845', '3906849', '3906852', '3906860', '3906862', '3906863', '3906864', '3906865', '3906875', '3906880', '3906882', '3906887', '3906895', '3906902', '3906903', '3906905', '3906908', '3906911', '3906915', '3906924', '3906925', '3906926', '3906932', '3906937', '3906943', '3906949', '3906951', '3906957', '3906962', '3906985', '3906987', '3906988', '3906991', '3906992', '3906998', '3907002', '3907003', '3907008', '3907010', '3907017', '3907019', '3907020', '3907021', '3907027', '3907028', '3907031', '3907044', '3907051', '3907053', '3907056', '3907061', '3907065', '3907069', '3907076', '3907080', '3907083', '3907084', '3907092', '3907094', '3907098', '3907112', '3907115', '3907119', '3907121', '3907124', '3907129', '3907131', '3907133', '3907135', '3907138', '3907146', '3907148', '3907150', '3907166', '3907175', '3907177', '3907180', '3907183', '3907191', '3907194', '3907198', '3907199', '3907202', '3907204', '3907205', '3907207', '3907209', '3907212', '3907213', '3907216', '3907226', '3907230', '3907231', '3907234', '3907245', '3907246', '3907250', '3907251', '3907263', '3907266', '3907268', '3907270', '3907271', '3907276', '3907277', '3907279', '3907281', '3907289', '3907299', '3907302', '3907305', '3907306', '3907313', '3907316', '3907317', '3907318', '3907320', '3907321', '3907332', '3907337', '3907340', '3907345', '3907348', '3907357', '3907358', '3907361', '3907362', '3907366', '3907374', '3907375', '3907376', '3907378', '3907380', '3907381', '3907390', '3907391', '3907395', '3907397', '3907402', '3907404', '3907408', '3907410', '3907419', '3907423', '3907425', '3907427', '3907428', '3907432', '3907433', '3907435', '3907438', '3907440', '3907443', '3907444', '3907453', '3907454', '3907475', '3907476', '3907477', '3907481', '3907489', '3907490', '3907493', '3907495', '3907501', '3907502', '3907503', '3907512', '3907517', '3907525', '3907528', '3907530', '3907532', '3907534', '3907536', '3907541', '3907543', '3907548', '3907550', '3907551', '3907554', '3907559', '3907560', '3907572', '3907575', '3907576', '3907583', '3907586', '3907589', '3907595', '3907596', '3907604', '3907609', '3907613', '3907616', '3907620', '3907627', '3907634', '3907637', '3907638', '3907641', '3907646', '3907647', '3907651', '3907656', '3907659', '3907668', '3907673', '3907677', '3907680', '3907681', '3907682', '3907686', '3907688', '3907691', '3907692', '3907693', '3907695', '3907700', '3907703', '3907708', '3907713', '3907721', '3907722', '3907723', '3907726', '3907729', '3907730', '3907731', '3907735', '3907736', '3907737', '3907738', '3907741', '3907744', '3907746', '3907750', '3907751', '3907752', '3907758', '3907763', '3907767', '3907768', '3907770', '3907777', '3907778', '3907779', '3907781', '3907783', '3907787', '3907788', '3907789', '3907790', '3907797', '3907802', '3907804', '3907807', '3907808', '3907813', '3907817', '3907818', '3907822', '3907829', '3907834', '3907843', '3907844', '3907849', '3907855', '3907857', '3907860', '3907865', '3907871', '3907882', '3907889', '3907890', '3907892', '3907893', '3907894', '3907895', '3907896', '3907909', '3907922', '3907926', '3907931', '3907933', '3907940', '3907942', '3907943', '3907951', '3907952', '3907956', '3907957', '3907965', '3907968', '3907969', '3907971', '3907972', '3907977', '3907979', '3907981', '3907983', '3907985', '3907995', '3908002', '3908003', '3908005', '3908008', '3908011', '3908017', '3908019', '3908023', '3908026', '3908027', '3908028', '3908029'], 'errorCount': 0}\n"
     ]
    }
   ],
   "source": [
    "print(miners['0x61c808d82a3ac53231750dadc13c777b59310bd9'])"
   ]
  },
  {
   "cell_type": "code",
   "execution_count": 20,
   "metadata": {},
   "outputs": [],
   "source": [
    "miners = {}\n",
    "blocks = {}\n",
    "for i in range(len(df)):\n",
    "    blocks[df[i]['blockNumber']] = {'miner':df[i]['blockMiner'],'transCount':0,'errorCount':0,'trueCount':0}\n",
    "    miner = df[i]['blockMiner']\n",
    "    if miner in miners:\n",
    "        miners[miner]['blockCount'] += 1\n",
    "        miners[miner]['blocks'].append(df[i]['blockNumber'])\n",
    "    else:\n",
    "        miners[miner] = {}\n",
    "        miners[miner]['blockCount'] = 1\n",
    "        miners[miner]['errorCount'] = 0\n",
    "        miners[miner]['blocks'] = [df[i]['blockNumber']]"
   ]
  },
  {
   "cell_type": "code",
   "execution_count": 24,
   "metadata": {},
   "outputs": [
    {
     "name": "stdout",
     "output_type": "stream",
     "text": [
      "3903912 95 0\n",
      "3903913 27 0\n",
      "3903944 36 36\n",
      "3903955 25 25\n",
      "3903982 5 0\n",
      "3903983 1 0\n",
      "3904001 1 0\n",
      "3904122 2 0\n",
      "3904144 2 0\n",
      "3904420 1 1\n",
      "3905034 2 1\n",
      "3905155 11 0\n",
      "3905359 4 2\n"
     ]
    }
   ],
   "source": [
    "for bnum in miners['0x61c808d82a3ac53231750dadc13c777b59310bd9']['blocks']:\n",
    "    if blocks[bnum]['transCount'] > 0:\n",
    "        print(bnum,blocks[bnum]['transCount'],blocks[bnum]['errorCount'])"
   ]
  },
  {
   "cell_type": "code",
   "execution_count": 32,
   "metadata": {},
   "outputs": [
    {
     "name": "stdout",
     "output_type": "stream",
     "text": [
      "Index(['blockHash', 'blockNumber', 'confirmations', 'contractAddress',\n",
      "       'cumulativeGasUsed', 'errCode', 'from', 'gas', 'gasPrice', 'gasUsed',\n",
      "       'hash', 'input', 'isError', 'nonce', 'timeStamp', 'to', 'traceId',\n",
      "       'transactionIndex', 'txreceipt_status', 'type', 'value'],\n",
      "      dtype='object')\n"
     ]
    }
   ],
   "source": [
    "print(trans.keys())"
   ]
  },
  {
   "cell_type": "code",
   "execution_count": 22,
   "metadata": {},
   "outputs": [],
   "source": [
    "notIn = []\n",
    "p2pool = []\n",
    "for i in range(len(trans)):\n",
    "    bnum = str(trans['blockNumber'][i])\n",
    "#     if (trans['blockNumber'] in )\n",
    "    if bnum in blocks:\n",
    "        miner = blocks[bnum]['miner']\n",
    "        blocks[bnum]['transCount'] += 1\n",
    "        if trans['isError'][i] == '1':\n",
    "            miners[miner]['errorCount'] += 1\n",
    "            blocks[bnum]['errorCount'] += 1\n",
    "        else:\n",
    "            blocks[bnum]['trueCount'] += 1\n",
    "    else:\n",
    "        if bnum not in notIn:\n",
    "            notIn.append(bnum)"
   ]
  },
  {
   "cell_type": "code",
   "execution_count": 6,
   "metadata": {},
   "outputs": [],
   "source": [
    "wOutTrans = []\n",
    "wTrans = []\n",
    "\n",
    "for bnum in blocks:\n",
    "    if blocks[bnum]['transCount'] > 0:\n",
    "        blocks[bnum]['ratio'] = 1.0*blocks[bnum]['errorCount']/blocks[bnum]['transCount']\n",
    "        wTrans.append(bnum)\n",
    "    else:\n",
    "        wOutTrans.append(bnum)\n",
    "        blocks[bnum]['ratio'] = 0"
   ]
  },
  {
   "cell_type": "code",
   "execution_count": 72,
   "metadata": {},
   "outputs": [
    {
     "name": "stdout",
     "output_type": "stream",
     "text": [
      "3503\n",
      "626\n"
     ]
    }
   ],
   "source": [
    "print(len(wOutTrans))\n",
    "print(len(wTrans))"
   ]
  },
  {
   "cell_type": "code",
   "execution_count": 7,
   "metadata": {},
   "outputs": [],
   "source": [
    "x = []\n",
    "y = []\n",
    "z = []\n",
    "t = []\n",
    "for bnum in wTrans:\n",
    "    x.append(bnum)\n",
    "    y.append(blocks[bnum]['ratio'])\n",
    "    z.append(blocks[bnum]['transCount'])\n",
    "    t.append(blocks[bnum]['miner']=='0x61c808d82a3ac53231750dadc13c777b59310bd9')"
   ]
  },
  {
   "cell_type": "code",
   "execution_count": 70,
   "metadata": {},
   "outputs": [
    {
     "name": "stdout",
     "output_type": "stream",
     "text": [
      "{'trueCount': 2, 'miner': '0xb2930b35844a230f00e51431acae96fe543a0347', 'transCount': 35, 'ratio': 0.9428571428571428, 'errorCount': 33}\n"
     ]
    }
   ],
   "source": [
    "print(blocks['3903910'])"
   ]
  },
  {
   "cell_type": "code",
   "execution_count": 8,
   "metadata": {},
   "outputs": [],
   "source": [
    "minersInd = []\n",
    "for m in miners:\n",
    "    minersInd.append(m)\n",
    "    miners[m]['ind'] = len(minersInd) - 1"
   ]
  },
  {
   "cell_type": "code",
   "execution_count": 9,
   "metadata": {},
   "outputs": [],
   "source": [
    "errCounts = []\n",
    "blockCounts = []\n",
    "for i in range(len(minersInd)):\n",
    "    errCounts.append(miners[minersInd[i]]['errorCount'])\n",
    "    blockCounts.append(miners[minersInd[i]]['blockCount'])"
   ]
  },
  {
   "cell_type": "code",
   "execution_count": 57,
   "metadata": {},
   "outputs": [],
   "source": [
    "z = np.array(z)"
   ]
  },
  {
   "cell_type": "code",
   "execution_count": 59,
   "metadata": {},
   "outputs": [
    {
     "name": "stdout",
     "output_type": "stream",
     "text": [
      "67\n",
      "(626,)\n"
     ]
    }
   ],
   "source": [
    "print((z<3).sum())\n",
    "print(z.shape)"
   ]
  },
  {
   "cell_type": "code",
   "execution_count": 10,
   "metadata": {},
   "outputs": [
    {
     "name": "stdout",
     "output_type": "stream",
     "text": [
      "4129\n"
     ]
    }
   ],
   "source": [
    "print(len(blocks))"
   ]
  },
  {
   "cell_type": "code",
   "execution_count": null,
   "metadata": {},
   "outputs": [],
   "source": [
    "fig = plt.figure()\n",
    "ax = fig.add_subplot(311)\n",
    "ax.bar(blocks.keys(),range(len(blocks.keys())))"
   ]
  },
  {
   "cell_type": "code",
   "execution_count": 66,
   "metadata": {},
   "outputs": [
    {
     "data": {
      "text/plain": [
       "<BarContainer object of 626 artists>"
      ]
     },
     "execution_count": 66,
     "metadata": {},
     "output_type": "execute_result"
    },
    {
     "data": {
      "image/png": "[encoded data removed]",
      "text/plain": [
       "<Figure size 432x288 with 3 Axes>"
      ]
     },
     "metadata": {},
     "output_type": "display_data"
    }
   ],
   "source": [
    "fig = plt.figure()\n",
    "ax = fig.add_subplot(311)\n",
    "\n",
    "ax.bar(range(len(x)),y)\n",
    "\n",
    "ax2 = fig.add_subplot(312)\n",
    "ax2.bar(range(len(x)),z)\n",
    "\n",
    "ax3 = fig.add_subplot(313)\n",
    "ax3.bar(range(len(x)),t)"
   ]
  },
  {
   "cell_type": "code",
   "execution_count": 47,
   "metadata": {},
   "outputs": [
    {
     "name": "stdout",
     "output_type": "stream",
     "text": [
      "{'0x1e9939daaad6924ad004c2560e90804164900341': {'blockCount': 526,\n",
      "                                                'errorCount': 488,\n",
      "                                                'ind': 2},\n",
      " '0x215c86bc952b0d98c4b2313a0a9ae56fa33c7f5d': {'blockCount': 6,\n",
      "                                                'errorCount': 48,\n",
      "                                                'ind': 19},\n",
      " '0x2a65aca4d5fc5b5c859090a6c34d164135398226': {'blockCount': 278,\n",
      "                                                'errorCount': 4,\n",
      "                                                'ind': 18},\n",
      " '0x3f4e874d4218ce28709524e05bcbf946b7d8a1b8': {'blockCount': 1,\n",
      "                                                'errorCount': 0,\n",
      "                                                'ind': 3},\n",
      " '0x49deb42acbbce35aa74f6df0be77162463658081': {'blockCount': 10,\n",
      "                                                'errorCount': 0,\n",
      "                                                'ind': 8},\n",
      " '0x4bb96091ee9d802ed039c4d1a5f6216f90f81b01': {'blockCount': 126,\n",
      "                                                'errorCount': 126,\n",
      "                                                'ind': 11},\n",
      " '0x52bc44d5378309ee2abf1539bf71de1b7d7be3b5': {'blockCount': 344,\n",
      "                                                'errorCount': 236,\n",
      "                                                'ind': 13},\n",
      " '0x61c808d82a3ac53231750dadc13c777b59310bd9': {'blockCount': 1036,\n",
      "                                                'errorCount': 130,\n",
      "                                                'ind': 6},\n",
      " '0x625a083bee9e6f0fd756e79880b26b955826702c': {'blockCount': 4,\n",
      "                                                'errorCount': 0,\n",
      "                                                'ind': 5},\n",
      " '0x6b4afbc48f4d6564fe7b2ef80f256a6567ed155e': {'blockCount': 2,\n",
      "                                                'errorCount': 0,\n",
      "                                                'ind': 7},\n",
      " '0x6c7f03ddfdd8a37ca267c88630a4fee958591de0': {'blockCount': 7,\n",
      "                                                'errorCount': 2,\n",
      "                                                'ind': 26},\n",
      " '0x73b8865eda227d6fffabc83c78124dea8c347fea': {'blockCount': 39,\n",
      "                                                'errorCount': 2,\n",
      "                                                'ind': 21},\n",
      " '0x8727716b7f5b5b9d2febcf3612289064b4e687a5': {'blockCount': 4,\n",
      "                                                'errorCount': 0,\n",
      "                                                'ind': 1},\n",
      " '0x9435d50503aee35c8757ae4933f7a0ab56597805': {'blockCount': 26,\n",
      "                                                'errorCount': 48,\n",
      "                                                'ind': 4},\n",
      " '0x96338149e9f6c262d4cb7aeec1cf4c652079a11c': {'blockCount': 7,\n",
      "                                                'errorCount': 0,\n",
      "                                                'ind': 22},\n",
      " '0xa027231f42c80ca4125b5cb962a21cd4f812e88f': {'blockCount': 3,\n",
      "                                                'errorCount': 0,\n",
      "                                                'ind': 12},\n",
      " '0xa42af2c70d316684e57aefcc6e393fecb1c7e84e': {'blockCount': 86,\n",
      "                                                'errorCount': 278,\n",
      "                                                'ind': 25},\n",
      " '0xa4aaf1d8dca32196f26c157a690a85c71b387f0d': {'blockCount': 20,\n",
      "                                                'errorCount': 20,\n",
      "                                                'ind': 14},\n",
      " '0xa9a926bed50dc038b20bb20de361e4c35aae51fc': {'blockCount': 20,\n",
      "                                                'errorCount': 0,\n",
      "                                                'ind': 24},\n",
      " '0xb2930b35844a230f00e51431acae96fe543a0347': {'blockCount': 376,\n",
      "                                                'errorCount': 424,\n",
      "                                                'ind': 9},\n",
      " '0xb3abc42edc86234ca7e4bc63a1423fd58bbe2609': {'blockCount': 1,\n",
      "                                                'errorCount': 0,\n",
      "                                                'ind': 15},\n",
      " '0xc0ea08a2d404d3172d2add29a45be56da40e2949': {'blockCount': 174,\n",
      "                                                'errorCount': 282,\n",
      "                                                'ind': 16},\n",
      " '0xea5da323a34cdaecbdfcfc9e09eb2c6538f1081a': {'blockCount': 6,\n",
      "                                                'errorCount': 0,\n",
      "                                                'ind': 20},\n",
      " '0xea674fdde714fd979de3edf0f56aa9716b898ec8': {'blockCount': 979,\n",
      "                                                'errorCount': 764,\n",
      "                                                'ind': 17},\n",
      " '0xf3b9d2c81f2b24b0fa0acaaa865b7d9ced5fc2fb': {'blockCount': 45,\n",
      "                                                'errorCount': 24,\n",
      "                                                'ind': 10},\n",
      " '0xf46cb6b5f3d82ba89e64b3bc1b4d5992e54a6a84': {'blockCount': 2,\n",
      "                                                'errorCount': 0,\n",
      "                                                'ind': 23},\n",
      " '0xfc668ae14b0f7702c04b105448fe733d96c558df': {'blockCount': 1,\n",
      "                                                'errorCount': 0,\n",
      "                                                'ind': 0}}\n"
     ]
    }
   ],
   "source": [
    "pprint(miners)"
   ]
  }
 ],
 "metadata": {
  "kernelspec": {
   "display_name": "Python 3",
   "language": "python",
   "name": "python3"
  },
  "language_info": {
   "codemirror_mode": {
    "name": "ipython",
    "version": 3
   },
   "file_extension": ".py",
   "mimetype": "text/x-python",
   "name": "python",
   "nbconvert_exporter": "python",
   "pygments_lexer": "ipython3",
   "version": "3.5.2"
  }
 },
 "nbformat": 4,
 "nbformat_minor": 2
}
