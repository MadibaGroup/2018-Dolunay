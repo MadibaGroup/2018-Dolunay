{
 "cells": [
  {
   "cell_type": "code",
   "execution_count": 2,
   "metadata": {},
   "outputs": [],
   "source": [
    "import pandas as pd\n",
    "from pprint import pprint\n",
    "from matplotlib import pyplot as plt\n",
    "import numpy as np"
   ]
  },
  {
   "cell_type": "code",
   "execution_count": 3,
   "metadata": {},
   "outputs": [],
   "source": [
    "df = pd.read_pickle('./blocks_mined_while_status_ico__block_data_pickle.p')"
   ]
  },
  {
   "cell_type": "code",
   "execution_count": 4,
   "metadata": {},
   "outputs": [],
   "source": [
    "trans = pd.read_pickle('./status_ico_transactions.p')"
   ]
  },
  {
   "cell_type": "code",
   "execution_count": 5,
   "metadata": {},
   "outputs": [
    {
     "name": "stdout",
     "output_type": "stream",
     "text": [
      "0       {'blockNumber': '3903901', 'timeStamp': '14979...\n",
      "1       {'blockNumber': '3903902', 'timeStamp': '14979...\n",
      "2       {'blockNumber': '3903903', 'timeStamp': '14979...\n",
      "3       {'blockNumber': '3903904', 'timeStamp': '14979...\n",
      "4       {'blockNumber': '3903905', 'timeStamp': '14979...\n",
      "5       {'blockNumber': '3903906', 'timeStamp': '14979...\n",
      "6       {'blockNumber': '3903907', 'timeStamp': '14979...\n",
      "7       {'blockNumber': '3903908', 'timeStamp': '14979...\n",
      "8       {'blockNumber': '3903909', 'timeStamp': '14979...\n",
      "9       {'blockNumber': '3903910', 'timeStamp': '14979...\n",
      "10      {'blockNumber': '3903911', 'timeStamp': '14979...\n",
      "11      {'blockNumber': '3903912', 'timeStamp': '14979...\n",
      "12      {'blockNumber': '3903913', 'timeStamp': '14979...\n",
      "13      {'blockNumber': '3903914', 'timeStamp': '14979...\n",
      "14      {'blockNumber': '3903915', 'timeStamp': '14979...\n",
      "15      {'blockNumber': '3903916', 'timeStamp': '14979...\n",
      "16      {'blockNumber': '3903917', 'timeStamp': '14979...\n",
      "17      {'blockNumber': '3903918', 'timeStamp': '14979...\n",
      "18      {'blockNumber': '3903919', 'timeStamp': '14979...\n",
      "19      {'blockNumber': '3903920', 'timeStamp': '14979...\n",
      "20      {'blockNumber': '3903921', 'timeStamp': '14979...\n",
      "21      {'blockNumber': '3903922', 'timeStamp': '14979...\n",
      "22      {'blockNumber': '3903923', 'timeStamp': '14979...\n",
      "23      {'blockNumber': '3903924', 'timeStamp': '14979...\n",
      "24      {'blockNumber': '3903925', 'timeStamp': '14979...\n",
      "25      {'blockNumber': '3903926', 'timeStamp': '14979...\n",
      "26      {'blockNumber': '3903927', 'timeStamp': '14979...\n",
      "27      {'blockNumber': '3903928', 'timeStamp': '14979...\n",
      "28      {'blockNumber': '3903929', 'timeStamp': '14979...\n",
      "29      {'blockNumber': '3903930', 'timeStamp': '14979...\n",
      "                              ...                        \n",
      "4099    {'blockNumber': '3908000', 'timeStamp': '14980...\n",
      "4100    {'blockNumber': '3908001', 'timeStamp': '14980...\n",
      "4101    {'blockNumber': '3908002', 'timeStamp': '14980...\n",
      "4102    {'blockNumber': '3908003', 'timeStamp': '14980...\n",
      "4103    {'blockNumber': '3908004', 'timeStamp': '14980...\n",
      "4104    {'blockNumber': '3908005', 'timeStamp': '14980...\n",
      "4105    {'blockNumber': '3908006', 'timeStamp': '14980...\n",
      "4106    {'blockNumber': '3908007', 'timeStamp': '14980...\n",
      "4107    {'blockNumber': '3908008', 'timeStamp': '14980...\n",
      "4108    {'blockNumber': '3908009', 'timeStamp': '14980...\n",
      "4109    {'blockNumber': '3908010', 'timeStamp': '14980...\n",
      "4110    {'blockNumber': '3908011', 'timeStamp': '14980...\n",
      "4111    {'blockNumber': '3908012', 'timeStamp': '14980...\n",
      "4112    {'blockNumber': '3908013', 'timeStamp': '14980...\n",
      "4113    {'blockNumber': '3908014', 'timeStamp': '14980...\n",
      "4114    {'blockNumber': '3908015', 'timeStamp': '14980...\n",
      "4115    {'blockNumber': '3908016', 'timeStamp': '14980...\n",
      "4116    {'blockNumber': '3908017', 'timeStamp': '14980...\n",
      "4117    {'blockNumber': '3908018', 'timeStamp': '14980...\n",
      "4118    {'blockNumber': '3908019', 'timeStamp': '14980...\n",
      "4119    {'blockNumber': '3908020', 'timeStamp': '14980...\n",
      "4120    {'blockNumber': '3908021', 'timeStamp': '14980...\n",
      "4121    {'blockNumber': '3908022', 'timeStamp': '14980...\n",
      "4122    {'blockNumber': '3908023', 'timeStamp': '14980...\n",
      "4123    {'blockNumber': '3908024', 'timeStamp': '14980...\n",
      "4124    {'blockNumber': '3908025', 'timeStamp': '14980...\n",
      "4125    {'blockNumber': '3908026', 'timeStamp': '14980...\n",
      "4126    {'blockNumber': '3908027', 'timeStamp': '14980...\n",
      "4127    {'blockNumber': '3908028', 'timeStamp': '14980...\n",
      "4128    {'blockNumber': '3908029', 'timeStamp': '14980...\n",
      "Name: _block_reward_data, Length: 4129, dtype: object\n"
     ]
    }
   ],
   "source": [
    "pprint(df)"
   ]
  },
  {
   "cell_type": "code",
   "execution_count": 6,
   "metadata": {},
   "outputs": [],
   "source": [
    "miners = {}\n",
    "blocks = {}\n",
    "for i in range(len(df)):\n",
    "    blocks[df[i]['blockNumber']] = {'miner':df[i]['blockMiner'],'transCount':0,'errorCount':0,'trueCount':0}\n",
    "    miner = df[i]['blockMiner']\n",
    "    if miner in miners:\n",
    "        miners[miner]['blockCount'] += 1\n",
    "        miners[miner]['blocks'].append(df[i]['blockNumber'])\n",
    "    else:\n",
    "        miners[miner] = {}\n",
    "        miners[miner]['blockCount'] = 1\n",
    "        miners[miner]['errorCount'] = 0\n",
    "        miners[miner]['blocks'] = [df[i]['blockNumber']]"
   ]
  },
  {
   "cell_type": "code",
   "execution_count": 7,
   "metadata": {},
   "outputs": [],
   "source": [
    "for bnum in miners['0x61c808d82a3ac53231750dadc13c777b59310bd9']['blocks']:\n",
    "    if blocks[bnum]['transCount'] > 0:\n",
    "        print(bnum,blocks[bnum]['transCount'],blocks[bnum]['errorCount'])"
   ]
  },
  {
   "cell_type": "code",
   "execution_count": 13,
   "metadata": {},
   "outputs": [
    {
     "name": "stdout",
     "output_type": "stream",
     "text": [
      "Index(['blockHash', 'blockNumber', 'confirmations', 'contractAddress',\n",
      "       'cumulativeGasUsed', 'errCode', 'from', 'gas', 'gasPrice', 'gasUsed',\n",
      "       'hash', 'input', 'isError', 'nonce', 'timeStamp', 'to', 'traceId',\n",
      "       'transactionIndex', 'txreceipt_status', 'type', 'value'],\n",
      "      dtype='object')\n"
     ]
    }
   ],
   "source": [
    "print(trans.keys())"
   ]
  },
  {
   "cell_type": "code",
   "execution_count": 8,
   "metadata": {},
   "outputs": [],
   "source": [
    "notIn = []\n",
    "p2pool = []\n",
    "for i in range(len(trans)):\n",
    "    bnum = str(trans['blockNumber'][i])\n",
    "#     if (trans['blockNumber'] in )\n",
    "    if bnum in blocks:\n",
    "        miner = blocks[bnum]['miner']\n",
    "        blocks[bnum]['transCount'] += 1\n",
    "        if trans['isError'][i] == '1':\n",
    "            miners[miner]['errorCount'] += 1\n",
    "            blocks[bnum]['errorCount'] += 1\n",
    "        else:\n",
    "            blocks[bnum]['trueCount'] += 1\n",
    "    else:\n",
    "        if bnum not in notIn:\n",
    "            notIn.append(bnum)"
   ]
  },
  {
   "cell_type": "code",
   "execution_count": 9,
   "metadata": {},
   "outputs": [],
   "source": [
    "wOutTrans = []\n",
    "wTrans = []\n",
    "\n",
    "for bnum in blocks:\n",
    "    if blocks[bnum]['transCount'] > 0:\n",
    "        blocks[bnum]['ratio'] = 1.0*blocks[bnum]['errorCount']/blocks[bnum]['transCount']\n",
    "        wTrans.append(bnum)\n",
    "    else:\n",
    "        wOutTrans.append(bnum)\n",
    "        blocks[bnum]['ratio'] = 0"
   ]
  },
  {
   "cell_type": "code",
   "execution_count": 10,
   "metadata": {},
   "outputs": [
    {
     "name": "stdout",
     "output_type": "stream",
     "text": [
      "3503\n",
      "626\n"
     ]
    }
   ],
   "source": [
    "print(len(wOutTrans))\n",
    "print(len(wTrans))"
   ]
  },
  {
   "cell_type": "code",
   "execution_count": 11,
   "metadata": {},
   "outputs": [],
   "source": [
    "x = []\n",
    "y = []\n",
    "z = []\n",
    "t = []\n",
    "for bnum in wTrans:\n",
    "    x.append(bnum)\n",
    "    y.append(blocks[bnum]['ratio'])\n",
    "    z.append(blocks[bnum]['transCount'])\n",
    "    t.append(blocks[bnum]['miner']=='0x61c808d82a3ac53231750dadc13c777b59310bd9')"
   ]
  },
  {
   "cell_type": "code",
   "execution_count": 12,
   "metadata": {},
   "outputs": [
    {
     "name": "stdout",
     "output_type": "stream",
     "text": [
      "{'miner': '0xb2930b35844a230f00e51431acae96fe543a0347', 'transCount': 35, 'errorCount': 33, 'trueCount': 2, 'ratio': 0.9428571428571428}\n"
     ]
    }
   ],
   "source": [
    "print(blocks['3903910'])"
   ]
  },
  {
   "cell_type": "code",
   "execution_count": 13,
   "metadata": {},
   "outputs": [],
   "source": [
    "minersInd = []\n",
    "for m in miners:\n",
    "    minersInd.append(m)\n",
    "    miners[m]['ind'] = len(minersInd) - 1"
   ]
  },
  {
   "cell_type": "code",
   "execution_count": 14,
   "metadata": {},
   "outputs": [],
   "source": [
    "errCounts = []\n",
    "blockCounts = []\n",
    "for i in range(len(minersInd)):\n",
    "    errCounts.append(miners[minersInd[i]]['errorCount'])\n",
    "    blockCounts.append(miners[minersInd[i]]['blockCount'])"
   ]
  },
  {
   "cell_type": "code",
   "execution_count": 15,
   "metadata": {},
   "outputs": [],
   "source": [
    "z = np.array(z)"
   ]
  },
  {
   "cell_type": "code",
   "execution_count": 16,
   "metadata": {},
   "outputs": [
    {
     "name": "stdout",
     "output_type": "stream",
     "text": [
      "67\n",
      "(626,)\n"
     ]
    }
   ],
   "source": [
    "print((z<3).sum())\n",
    "print(z.shape)"
   ]
  },
  {
   "cell_type": "code",
   "execution_count": 23,
   "metadata": {},
   "outputs": [
    {
     "name": "stdout",
     "output_type": "stream",
     "text": [
      "4129\n"
     ]
    }
   ],
   "source": [
    "print(len(blocks))"
   ]
  },
  {
   "cell_type": "code",
   "execution_count": null,
   "metadata": {},
   "outputs": [
    {
     "data": {
      "text/plain": [
       "<BarContainer object of 4129 artists>"
      ]
     },
     "execution_count": 24,
     "metadata": {},
     "output_type": "execute_result"
    }
   ],
   "source": [
    "# fig = plt.figure()\n",
    "# ax = fig.add_subplot(311)\n",
    "# ax.bar(blocks.keys(),range(len(blocks.keys())))"
   ]
  },
  {
   "cell_type": "code",
   "execution_count": 17,
   "metadata": {},
   "outputs": [
    {
     "data": {
      "text/plain": [
       "<BarContainer object of 626 artists>"
      ]
     },
     "execution_count": 17,
     "metadata": {},
     "output_type": "execute_result"
    },
    {
     "data": {
      "image/png": "[encoded data removed]",
      "text/plain": [
       "<Figure size 432x288 with 3 Axes>"
      ]
     },
     "metadata": {},
     "output_type": "display_data"
    }
   ],
   "source": [
    "fig = plt.figure()\n",
    "ax = fig.add_subplot(311)\n",
    "\n",
    "ax.bar(range(len(x)),y)\n",
    "\n",
    "ax2 = fig.add_subplot(312)\n",
    "ax2.bar(range(len(x)),z)\n",
    "\n",
    "ax3 = fig.add_subplot(313)\n",
    "ax3.bar(range(len(x)),t)"
   ]
  },
  {
   "cell_type": "code",
   "execution_count": 47,
   "metadata": {},
   "outputs": [
    {
     "name": "stdout",
     "output_type": "stream",
     "text": [
      "{'0x1e9939daaad6924ad004c2560e90804164900341': {'blockCount': 526,\n",
      "                                                'errorCount': 488,\n",
      "                                                'ind': 2},\n",
      " '0x215c86bc952b0d98c4b2313a0a9ae56fa33c7f5d': {'blockCount': 6,\n",
      "                                                'errorCount': 48,\n",
      "                                                'ind': 19},\n",
      " '0x2a65aca4d5fc5b5c859090a6c34d164135398226': {'blockCount': 278,\n",
      "                                                'errorCount': 4,\n",
      "                                                'ind': 18},\n",
      " '0x3f4e874d4218ce28709524e05bcbf946b7d8a1b8': {'blockCount': 1,\n",
      "                                                'errorCount': 0,\n",
      "                                                'ind': 3},\n",
      " '0x49deb42acbbce35aa74f6df0be77162463658081': {'blockCount': 10,\n",
      "                                                'errorCount': 0,\n",
      "                                                'ind': 8},\n",
      " '0x4bb96091ee9d802ed039c4d1a5f6216f90f81b01': {'blockCount': 126,\n",
      "                                                'errorCount': 126,\n",
      "                                                'ind': 11},\n",
      " '0x52bc44d5378309ee2abf1539bf71de1b7d7be3b5': {'blockCount': 344,\n",
      "                                                'errorCount': 236,\n",
      "                                                'ind': 13},\n",
      " '0x61c808d82a3ac53231750dadc13c777b59310bd9': {'blockCount': 1036,\n",
      "                                                'errorCount': 130,\n",
      "                                                'ind': 6},\n",
      " '0x625a083bee9e6f0fd756e79880b26b955826702c': {'blockCount': 4,\n",
      "                                                'errorCount': 0,\n",
      "                                                'ind': 5},\n",
      " '0x6b4afbc48f4d6564fe7b2ef80f256a6567ed155e': {'blockCount': 2,\n",
      "                                                'errorCount': 0,\n",
      "                                                'ind': 7},\n",
      " '0x6c7f03ddfdd8a37ca267c88630a4fee958591de0': {'blockCount': 7,\n",
      "                                                'errorCount': 2,\n",
      "                                                'ind': 26},\n",
      " '0x73b8865eda227d6fffabc83c78124dea8c347fea': {'blockCount': 39,\n",
      "                                                'errorCount': 2,\n",
      "                                                'ind': 21},\n",
      " '0x8727716b7f5b5b9d2febcf3612289064b4e687a5': {'blockCount': 4,\n",
      "                                                'errorCount': 0,\n",
      "                                                'ind': 1},\n",
      " '0x9435d50503aee35c8757ae4933f7a0ab56597805': {'blockCount': 26,\n",
      "                                                'errorCount': 48,\n",
      "                                                'ind': 4},\n",
      " '0x96338149e9f6c262d4cb7aeec1cf4c652079a11c': {'blockCount': 7,\n",
      "                                                'errorCount': 0,\n",
      "                                                'ind': 22},\n",
      " '0xa027231f42c80ca4125b5cb962a21cd4f812e88f': {'blockCount': 3,\n",
      "                                                'errorCount': 0,\n",
      "                                                'ind': 12},\n",
      " '0xa42af2c70d316684e57aefcc6e393fecb1c7e84e': {'blockCount': 86,\n",
      "                                                'errorCount': 278,\n",
      "                                                'ind': 25},\n",
      " '0xa4aaf1d8dca32196f26c157a690a85c71b387f0d': {'blockCount': 20,\n",
      "                                                'errorCount': 20,\n",
      "                                                'ind': 14},\n",
      " '0xa9a926bed50dc038b20bb20de361e4c35aae51fc': {'blockCount': 20,\n",
      "                                                'errorCount': 0,\n",
      "                                                'ind': 24},\n",
      " '0xb2930b35844a230f00e51431acae96fe543a0347': {'blockCount': 376,\n",
      "                                                'errorCount': 424,\n",
      "                                                'ind': 9},\n",
      " '0xb3abc42edc86234ca7e4bc63a1423fd58bbe2609': {'blockCount': 1,\n",
      "                                                'errorCount': 0,\n",
      "                                                'ind': 15},\n",
      " '0xc0ea08a2d404d3172d2add29a45be56da40e2949': {'blockCount': 174,\n",
      "                                                'errorCount': 282,\n",
      "                                                'ind': 16},\n",
      " '0xea5da323a34cdaecbdfcfc9e09eb2c6538f1081a': {'blockCount': 6,\n",
      "                                                'errorCount': 0,\n",
      "                                                'ind': 20},\n",
      " '0xea674fdde714fd979de3edf0f56aa9716b898ec8': {'blockCount': 979,\n",
      "                                                'errorCount': 764,\n",
      "                                                'ind': 17},\n",
      " '0xf3b9d2c81f2b24b0fa0acaaa865b7d9ced5fc2fb': {'blockCount': 45,\n",
      "                                                'errorCount': 24,\n",
      "                                                'ind': 10},\n",
      " '0xf46cb6b5f3d82ba89e64b3bc1b4d5992e54a6a84': {'blockCount': 2,\n",
      "                                                'errorCount': 0,\n",
      "                                                'ind': 23},\n",
      " '0xfc668ae14b0f7702c04b105448fe733d96c558df': {'blockCount': 1,\n",
      "                                                'errorCount': 0,\n",
      "                                                'ind': 0}}\n"
     ]
    }
   ],
   "source": [
    "pprint(miners)"
   ]
  }
 ],
 "metadata": {
  "kernelspec": {
   "display_name": "Python 3",
   "language": "python",
   "name": "python3"
  },
  "language_info": {
   "codemirror_mode": {
    "name": "ipython",
    "version": 3
   },
   "file_extension": ".py",
   "mimetype": "text/x-python",
   "name": "python",
   "nbconvert_exporter": "python",
   "pygments_lexer": "ipython3",
   "version": "3.6.5"
  }
 },
 "nbformat": 4,
 "nbformat_minor": 2
}
